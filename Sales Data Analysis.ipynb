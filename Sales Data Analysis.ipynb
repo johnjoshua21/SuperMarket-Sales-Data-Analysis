{
 "cells": [
  {
   "cell_type": "code",
   "execution_count": 1,
   "id": "c8f326e5-3bb9-4080-8e33-e249cc9e87c1",
   "metadata": {},
   "outputs": [],
   "source": [
    "import pandas as pd"
   ]
  },
  {
   "cell_type": "code",
   "execution_count": 3,
   "id": "7e8dbef0-451c-4d5d-a1e3-c5e79e58b9ce",
   "metadata": {},
   "outputs": [],
   "source": [
    "import matplotlib.pyplot as plt"
   ]
  },
  {
   "cell_type": "code",
   "execution_count": 5,
   "id": "089082a2-f3f4-48e9-89bb-a9805ce1de32",
   "metadata": {},
   "outputs": [],
   "source": [
    "import seaborn as sns"
   ]
  },
  {
   "cell_type": "code",
   "execution_count": 13,
   "id": "053d62ae-ef88-46fd-a6c2-bb91de68b952",
   "metadata": {},
   "outputs": [],
   "source": [
    "val=[('2024-01-15', 'Product A', 'Electronics', 'North', 150.00),\n",
    "('2024-02-20', 'Product B', 'Furniture', 'South', 300.00),\n",
    "('2024-03-10', 'Product C', 'Electronics', 'East', 200.00),\n",
    "('2024-04-05', 'Product D', 'Furniture', 'West', 250.00),\n",
    "('2024-05-25', 'Product E', 'Clothing', 'North', 100.00),\n",
    "('2024-06-30', 'Product F', 'Clothing', 'South', 75.00),\n",
    "('2024-07-15', 'Product G', 'Electronics', 'East', 180.00),\n",
    "('2024-08-20', 'Product H', 'Furniture', 'West', 220.00),\n",
    "('2024-09-10', 'Product I', 'Clothing', 'North', 90.00),\n",
    "('2024-10-05', 'Product J', 'Electronics', 'South', 130.00),\n",
    "('2024-11-25', 'Product K', 'Furniture', 'East', 310.00),\n",
    "('2024-12-30', 'Product L', 'Clothing', 'West', 140.00)]\n",
    "\n",
    "df=pd.DataFrame(val,columns=[\"sale_date\", \"product\", \"category\", \"region\", \"sales_amount\"])"
   ]
  },
  {
   "cell_type": "code",
   "execution_count": 11,
   "id": "4cae8da7-02be-4145-92b0-939ea951a275",
   "metadata": {},
   "outputs": [
    {
     "data": {
      "text/html": [
       "<div>\n",
       "<style scoped>\n",
       "    .dataframe tbody tr th:only-of-type {\n",
       "        vertical-align: middle;\n",
       "    }\n",
       "\n",
       "    .dataframe tbody tr th {\n",
       "        vertical-align: top;\n",
       "    }\n",
       "\n",
       "    .dataframe thead th {\n",
       "        text-align: right;\n",
       "    }\n",
       "</style>\n",
       "<table border=\"1\" class=\"dataframe\">\n",
       "  <thead>\n",
       "    <tr style=\"text-align: right;\">\n",
       "      <th></th>\n",
       "      <th>sale_date</th>\n",
       "      <th>product</th>\n",
       "      <th>category</th>\n",
       "      <th>region</th>\n",
       "      <th>sales_amount</th>\n",
       "    </tr>\n",
       "  </thead>\n",
       "  <tbody>\n",
       "    <tr>\n",
       "      <th>0</th>\n",
       "      <td>2024-01-15</td>\n",
       "      <td>Product A</td>\n",
       "      <td>Electronics</td>\n",
       "      <td>North</td>\n",
       "      <td>150.0</td>\n",
       "    </tr>\n",
       "    <tr>\n",
       "      <th>1</th>\n",
       "      <td>2024-02-20</td>\n",
       "      <td>Product B</td>\n",
       "      <td>Furniture</td>\n",
       "      <td>South</td>\n",
       "      <td>300.0</td>\n",
       "    </tr>\n",
       "    <tr>\n",
       "      <th>2</th>\n",
       "      <td>2024-03-10</td>\n",
       "      <td>Product C</td>\n",
       "      <td>Electronics</td>\n",
       "      <td>East</td>\n",
       "      <td>200.0</td>\n",
       "    </tr>\n",
       "    <tr>\n",
       "      <th>3</th>\n",
       "      <td>2024-04-05</td>\n",
       "      <td>Product D</td>\n",
       "      <td>Furniture</td>\n",
       "      <td>West</td>\n",
       "      <td>250.0</td>\n",
       "    </tr>\n",
       "    <tr>\n",
       "      <th>4</th>\n",
       "      <td>2024-05-25</td>\n",
       "      <td>Product E</td>\n",
       "      <td>Clothing</td>\n",
       "      <td>North</td>\n",
       "      <td>100.0</td>\n",
       "    </tr>\n",
       "    <tr>\n",
       "      <th>5</th>\n",
       "      <td>2024-06-30</td>\n",
       "      <td>Product F</td>\n",
       "      <td>Clothing</td>\n",
       "      <td>South</td>\n",
       "      <td>75.0</td>\n",
       "    </tr>\n",
       "    <tr>\n",
       "      <th>6</th>\n",
       "      <td>2024-07-15</td>\n",
       "      <td>Product G</td>\n",
       "      <td>Electronics</td>\n",
       "      <td>East</td>\n",
       "      <td>180.0</td>\n",
       "    </tr>\n",
       "    <tr>\n",
       "      <th>7</th>\n",
       "      <td>2024-08-20</td>\n",
       "      <td>Product H</td>\n",
       "      <td>Furniture</td>\n",
       "      <td>West</td>\n",
       "      <td>220.0</td>\n",
       "    </tr>\n",
       "    <tr>\n",
       "      <th>8</th>\n",
       "      <td>2024-09-10</td>\n",
       "      <td>Product I</td>\n",
       "      <td>Clothing</td>\n",
       "      <td>North</td>\n",
       "      <td>90.0</td>\n",
       "    </tr>\n",
       "    <tr>\n",
       "      <th>9</th>\n",
       "      <td>2024-10-05</td>\n",
       "      <td>Product J</td>\n",
       "      <td>Electronics</td>\n",
       "      <td>South</td>\n",
       "      <td>130.0</td>\n",
       "    </tr>\n",
       "    <tr>\n",
       "      <th>10</th>\n",
       "      <td>2024-11-25</td>\n",
       "      <td>Product K</td>\n",
       "      <td>Furniture</td>\n",
       "      <td>East</td>\n",
       "      <td>310.0</td>\n",
       "    </tr>\n",
       "    <tr>\n",
       "      <th>11</th>\n",
       "      <td>2024-12-30</td>\n",
       "      <td>Product L</td>\n",
       "      <td>Clothing</td>\n",
       "      <td>West</td>\n",
       "      <td>140.0</td>\n",
       "    </tr>\n",
       "  </tbody>\n",
       "</table>\n",
       "</div>"
      ],
      "text/plain": [
       "     sale_date    product     category region  sales_amount\n",
       "0   2024-01-15  Product A  Electronics  North         150.0\n",
       "1   2024-02-20  Product B    Furniture  South         300.0\n",
       "2   2024-03-10  Product C  Electronics   East         200.0\n",
       "3   2024-04-05  Product D    Furniture   West         250.0\n",
       "4   2024-05-25  Product E     Clothing  North         100.0\n",
       "5   2024-06-30  Product F     Clothing  South          75.0\n",
       "6   2024-07-15  Product G  Electronics   East         180.0\n",
       "7   2024-08-20  Product H    Furniture   West         220.0\n",
       "8   2024-09-10  Product I     Clothing  North          90.0\n",
       "9   2024-10-05  Product J  Electronics  South         130.0\n",
       "10  2024-11-25  Product K    Furniture   East         310.0\n",
       "11  2024-12-30  Product L     Clothing   West         140.0"
      ]
     },
     "execution_count": 11,
     "metadata": {},
     "output_type": "execute_result"
    }
   ],
   "source": [
    "df"
   ]
  },
  {
   "cell_type": "code",
   "execution_count": 20,
   "id": "735d2258-a4c8-4211-bb13-808397005149",
   "metadata": {},
   "outputs": [],
   "source": [
    "grouped_quar=df.groupby(df.region)"
   ]
  },
  {
   "cell_type": "code",
   "execution_count": 22,
   "id": "76f1885c-5796-4b7c-9622-c2f239d37005",
   "metadata": {},
   "outputs": [],
   "source": [
    "df_north=grouped_quar.get_group(\"North\")"
   ]
  },
  {
   "cell_type": "code",
   "execution_count": 24,
   "id": "0cc5c950-ad2a-4871-97d1-802473cac69d",
   "metadata": {},
   "outputs": [
    {
     "data": {
      "text/html": [
       "<div>\n",
       "<style scoped>\n",
       "    .dataframe tbody tr th:only-of-type {\n",
       "        vertical-align: middle;\n",
       "    }\n",
       "\n",
       "    .dataframe tbody tr th {\n",
       "        vertical-align: top;\n",
       "    }\n",
       "\n",
       "    .dataframe thead th {\n",
       "        text-align: right;\n",
       "    }\n",
       "</style>\n",
       "<table border=\"1\" class=\"dataframe\">\n",
       "  <thead>\n",
       "    <tr style=\"text-align: right;\">\n",
       "      <th></th>\n",
       "      <th>sale_date</th>\n",
       "      <th>product</th>\n",
       "      <th>category</th>\n",
       "      <th>region</th>\n",
       "      <th>sales_amount</th>\n",
       "    </tr>\n",
       "  </thead>\n",
       "  <tbody>\n",
       "    <tr>\n",
       "      <th>0</th>\n",
       "      <td>2024-01-15</td>\n",
       "      <td>Product A</td>\n",
       "      <td>Electronics</td>\n",
       "      <td>North</td>\n",
       "      <td>150.0</td>\n",
       "    </tr>\n",
       "    <tr>\n",
       "      <th>4</th>\n",
       "      <td>2024-05-25</td>\n",
       "      <td>Product E</td>\n",
       "      <td>Clothing</td>\n",
       "      <td>North</td>\n",
       "      <td>100.0</td>\n",
       "    </tr>\n",
       "    <tr>\n",
       "      <th>8</th>\n",
       "      <td>2024-09-10</td>\n",
       "      <td>Product I</td>\n",
       "      <td>Clothing</td>\n",
       "      <td>North</td>\n",
       "      <td>90.0</td>\n",
       "    </tr>\n",
       "  </tbody>\n",
       "</table>\n",
       "</div>"
      ],
      "text/plain": [
       "    sale_date    product     category region  sales_amount\n",
       "0  2024-01-15  Product A  Electronics  North         150.0\n",
       "4  2024-05-25  Product E     Clothing  North         100.0\n",
       "8  2024-09-10  Product I     Clothing  North          90.0"
      ]
     },
     "execution_count": 24,
     "metadata": {},
     "output_type": "execute_result"
    }
   ],
   "source": [
    "df_north"
   ]
  },
  {
   "cell_type": "code",
   "execution_count": 26,
   "id": "65ebbc7b-4faa-4522-97ed-a355e2cfb85c",
   "metadata": {},
   "outputs": [],
   "source": [
    "df_south=grouped_quar.get_group(\"South\")"
   ]
  },
  {
   "cell_type": "code",
   "execution_count": 28,
   "id": "7b8c6200-0740-49ce-8afe-ec1c17e4306a",
   "metadata": {},
   "outputs": [
    {
     "data": {
      "text/html": [
       "<div>\n",
       "<style scoped>\n",
       "    .dataframe tbody tr th:only-of-type {\n",
       "        vertical-align: middle;\n",
       "    }\n",
       "\n",
       "    .dataframe tbody tr th {\n",
       "        vertical-align: top;\n",
       "    }\n",
       "\n",
       "    .dataframe thead th {\n",
       "        text-align: right;\n",
       "    }\n",
       "</style>\n",
       "<table border=\"1\" class=\"dataframe\">\n",
       "  <thead>\n",
       "    <tr style=\"text-align: right;\">\n",
       "      <th></th>\n",
       "      <th>sale_date</th>\n",
       "      <th>product</th>\n",
       "      <th>category</th>\n",
       "      <th>region</th>\n",
       "      <th>sales_amount</th>\n",
       "    </tr>\n",
       "  </thead>\n",
       "  <tbody>\n",
       "    <tr>\n",
       "      <th>1</th>\n",
       "      <td>2024-02-20</td>\n",
       "      <td>Product B</td>\n",
       "      <td>Furniture</td>\n",
       "      <td>South</td>\n",
       "      <td>300.0</td>\n",
       "    </tr>\n",
       "    <tr>\n",
       "      <th>5</th>\n",
       "      <td>2024-06-30</td>\n",
       "      <td>Product F</td>\n",
       "      <td>Clothing</td>\n",
       "      <td>South</td>\n",
       "      <td>75.0</td>\n",
       "    </tr>\n",
       "    <tr>\n",
       "      <th>9</th>\n",
       "      <td>2024-10-05</td>\n",
       "      <td>Product J</td>\n",
       "      <td>Electronics</td>\n",
       "      <td>South</td>\n",
       "      <td>130.0</td>\n",
       "    </tr>\n",
       "  </tbody>\n",
       "</table>\n",
       "</div>"
      ],
      "text/plain": [
       "    sale_date    product     category region  sales_amount\n",
       "1  2024-02-20  Product B    Furniture  South         300.0\n",
       "5  2024-06-30  Product F     Clothing  South          75.0\n",
       "9  2024-10-05  Product J  Electronics  South         130.0"
      ]
     },
     "execution_count": 28,
     "metadata": {},
     "output_type": "execute_result"
    }
   ],
   "source": [
    "df_south"
   ]
  },
  {
   "cell_type": "code",
   "execution_count": 30,
   "id": "1d6f9cd4-2521-4cf5-9226-ba680ccd7a2d",
   "metadata": {},
   "outputs": [],
   "source": [
    "df_west=grouped_quar.get_group(\"West\")"
   ]
  },
  {
   "cell_type": "code",
   "execution_count": 32,
   "id": "2efa01cf-c375-4d4f-89eb-a2a2b0b827d5",
   "metadata": {},
   "outputs": [
    {
     "data": {
      "text/html": [
       "<div>\n",
       "<style scoped>\n",
       "    .dataframe tbody tr th:only-of-type {\n",
       "        vertical-align: middle;\n",
       "    }\n",
       "\n",
       "    .dataframe tbody tr th {\n",
       "        vertical-align: top;\n",
       "    }\n",
       "\n",
       "    .dataframe thead th {\n",
       "        text-align: right;\n",
       "    }\n",
       "</style>\n",
       "<table border=\"1\" class=\"dataframe\">\n",
       "  <thead>\n",
       "    <tr style=\"text-align: right;\">\n",
       "      <th></th>\n",
       "      <th>sale_date</th>\n",
       "      <th>product</th>\n",
       "      <th>category</th>\n",
       "      <th>region</th>\n",
       "      <th>sales_amount</th>\n",
       "    </tr>\n",
       "  </thead>\n",
       "  <tbody>\n",
       "    <tr>\n",
       "      <th>3</th>\n",
       "      <td>2024-04-05</td>\n",
       "      <td>Product D</td>\n",
       "      <td>Furniture</td>\n",
       "      <td>West</td>\n",
       "      <td>250.0</td>\n",
       "    </tr>\n",
       "    <tr>\n",
       "      <th>7</th>\n",
       "      <td>2024-08-20</td>\n",
       "      <td>Product H</td>\n",
       "      <td>Furniture</td>\n",
       "      <td>West</td>\n",
       "      <td>220.0</td>\n",
       "    </tr>\n",
       "    <tr>\n",
       "      <th>11</th>\n",
       "      <td>2024-12-30</td>\n",
       "      <td>Product L</td>\n",
       "      <td>Clothing</td>\n",
       "      <td>West</td>\n",
       "      <td>140.0</td>\n",
       "    </tr>\n",
       "  </tbody>\n",
       "</table>\n",
       "</div>"
      ],
      "text/plain": [
       "     sale_date    product   category region  sales_amount\n",
       "3   2024-04-05  Product D  Furniture   West         250.0\n",
       "7   2024-08-20  Product H  Furniture   West         220.0\n",
       "11  2024-12-30  Product L   Clothing   West         140.0"
      ]
     },
     "execution_count": 32,
     "metadata": {},
     "output_type": "execute_result"
    }
   ],
   "source": [
    "df_west"
   ]
  },
  {
   "cell_type": "code",
   "execution_count": 34,
   "id": "6cb2cab8-8115-4211-aa31-36ddadbec836",
   "metadata": {},
   "outputs": [],
   "source": [
    "df_east=grouped_quar.get_group(\"East\")"
   ]
  },
  {
   "cell_type": "code",
   "execution_count": 36,
   "id": "6dc0aea0-1626-40dd-9262-53c5591a2926",
   "metadata": {},
   "outputs": [
    {
     "data": {
      "text/html": [
       "<div>\n",
       "<style scoped>\n",
       "    .dataframe tbody tr th:only-of-type {\n",
       "        vertical-align: middle;\n",
       "    }\n",
       "\n",
       "    .dataframe tbody tr th {\n",
       "        vertical-align: top;\n",
       "    }\n",
       "\n",
       "    .dataframe thead th {\n",
       "        text-align: right;\n",
       "    }\n",
       "</style>\n",
       "<table border=\"1\" class=\"dataframe\">\n",
       "  <thead>\n",
       "    <tr style=\"text-align: right;\">\n",
       "      <th></th>\n",
       "      <th>sale_date</th>\n",
       "      <th>product</th>\n",
       "      <th>category</th>\n",
       "      <th>region</th>\n",
       "      <th>sales_amount</th>\n",
       "    </tr>\n",
       "  </thead>\n",
       "  <tbody>\n",
       "    <tr>\n",
       "      <th>2</th>\n",
       "      <td>2024-03-10</td>\n",
       "      <td>Product C</td>\n",
       "      <td>Electronics</td>\n",
       "      <td>East</td>\n",
       "      <td>200.0</td>\n",
       "    </tr>\n",
       "    <tr>\n",
       "      <th>6</th>\n",
       "      <td>2024-07-15</td>\n",
       "      <td>Product G</td>\n",
       "      <td>Electronics</td>\n",
       "      <td>East</td>\n",
       "      <td>180.0</td>\n",
       "    </tr>\n",
       "    <tr>\n",
       "      <th>10</th>\n",
       "      <td>2024-11-25</td>\n",
       "      <td>Product K</td>\n",
       "      <td>Furniture</td>\n",
       "      <td>East</td>\n",
       "      <td>310.0</td>\n",
       "    </tr>\n",
       "  </tbody>\n",
       "</table>\n",
       "</div>"
      ],
      "text/plain": [
       "     sale_date    product     category region  sales_amount\n",
       "2   2024-03-10  Product C  Electronics   East         200.0\n",
       "6   2024-07-15  Product G  Electronics   East         180.0\n",
       "10  2024-11-25  Product K    Furniture   East         310.0"
      ]
     },
     "execution_count": 36,
     "metadata": {},
     "output_type": "execute_result"
    }
   ],
   "source": [
    "df_east"
   ]
  },
  {
   "cell_type": "code",
   "execution_count": 38,
   "id": "880b3384-1d28-417a-93bb-e5ec4cc5026b",
   "metadata": {},
   "outputs": [],
   "source": [
    "data1={\n",
    "    \"Region\":[\"North\",\"South\",\"West\",\"East\"],\n",
    "    \"Total_sales\":[df_north['sales_amount'].sum(),df_south['sales_amount'].sum(),df_west['sales_amount'].sum(),df_east['sales_amount'].sum(),]\n",
    "}"
   ]
  },
  {
   "cell_type": "code",
   "execution_count": 40,
   "id": "f6e91668-097b-4810-a70a-3c74634875ee",
   "metadata": {},
   "outputs": [],
   "source": [
    "one=pd.DataFrame(data1)"
   ]
  },
  {
   "cell_type": "code",
   "execution_count": 42,
   "id": "bc2a4493-6482-48d4-ac38-84ed6a824204",
   "metadata": {},
   "outputs": [
    {
     "data": {
      "text/html": [
       "<div>\n",
       "<style scoped>\n",
       "    .dataframe tbody tr th:only-of-type {\n",
       "        vertical-align: middle;\n",
       "    }\n",
       "\n",
       "    .dataframe tbody tr th {\n",
       "        vertical-align: top;\n",
       "    }\n",
       "\n",
       "    .dataframe thead th {\n",
       "        text-align: right;\n",
       "    }\n",
       "</style>\n",
       "<table border=\"1\" class=\"dataframe\">\n",
       "  <thead>\n",
       "    <tr style=\"text-align: right;\">\n",
       "      <th></th>\n",
       "      <th>Region</th>\n",
       "      <th>Total_sales</th>\n",
       "    </tr>\n",
       "  </thead>\n",
       "  <tbody>\n",
       "    <tr>\n",
       "      <th>0</th>\n",
       "      <td>North</td>\n",
       "      <td>340.0</td>\n",
       "    </tr>\n",
       "    <tr>\n",
       "      <th>1</th>\n",
       "      <td>South</td>\n",
       "      <td>505.0</td>\n",
       "    </tr>\n",
       "    <tr>\n",
       "      <th>2</th>\n",
       "      <td>West</td>\n",
       "      <td>610.0</td>\n",
       "    </tr>\n",
       "    <tr>\n",
       "      <th>3</th>\n",
       "      <td>East</td>\n",
       "      <td>690.0</td>\n",
       "    </tr>\n",
       "  </tbody>\n",
       "</table>\n",
       "</div>"
      ],
      "text/plain": [
       "  Region  Total_sales\n",
       "0  North        340.0\n",
       "1  South        505.0\n",
       "2   West        610.0\n",
       "3   East        690.0"
      ]
     },
     "execution_count": 42,
     "metadata": {},
     "output_type": "execute_result"
    }
   ],
   "source": [
    "one"
   ]
  },
  {
   "cell_type": "code",
   "execution_count": 54,
   "id": "d35a2310-4053-4fab-9157-9439c3525f97",
   "metadata": {},
   "outputs": [],
   "source": [
    "##############2#######################"
   ]
  },
  {
   "cell_type": "code",
   "execution_count": 64,
   "id": "9406dbbc-1df8-4f32-8a5b-0de5a4e5b82c",
   "metadata": {},
   "outputs": [],
   "source": [
    "nor_ele=0\n",
    "nor_clo=0\n",
    "nor_fur=0\n",
    "\n",
    "for i in df_north.index:\n",
    "    if df.loc[i].category==\"Electronics\":\n",
    "        nor_ele=df.loc[i].sales_amount.count()\n",
    "    elif df.loc[i].category==\"Clothing\":\n",
    "        nor_clo=df.loc[i].sales_amount.count()\n",
    "    elif df.loc[i].category==\"Furniture\":\n",
    "        nor_fur=df.loc[i].sales_amount.count()"
   ]
  },
  {
   "cell_type": "code",
   "execution_count": 74,
   "id": "28df819d-392c-40e3-af6d-60f0b3fd7b32",
   "metadata": {},
   "outputs": [],
   "source": [
    "data2={\n",
    "    \"Region\":[\"North\",\"North\",\"North\"],\n",
    "    \"Category\":[\"Electronics\",\"Clothing\",\"Furniture\"],\n",
    "    \"Count\":[nor_ele,nor_clo,nor_clo]\n",
    "}\n",
    "two=pd.DataFrame(data2)"
   ]
  },
  {
   "cell_type": "code",
   "execution_count": 76,
   "id": "cfa370c8-26f8-470f-9f22-cffaf3c1b535",
   "metadata": {},
   "outputs": [],
   "source": []
  },
  {
   "cell_type": "code",
   "execution_count": 78,
   "id": "a6df4abc-e5c9-447b-956b-dad5ff00c9e5",
   "metadata": {},
   "outputs": [
    {
     "data": {
      "text/html": [
       "<div>\n",
       "<style scoped>\n",
       "    .dataframe tbody tr th:only-of-type {\n",
       "        vertical-align: middle;\n",
       "    }\n",
       "\n",
       "    .dataframe tbody tr th {\n",
       "        vertical-align: top;\n",
       "    }\n",
       "\n",
       "    .dataframe thead th {\n",
       "        text-align: right;\n",
       "    }\n",
       "</style>\n",
       "<table border=\"1\" class=\"dataframe\">\n",
       "  <thead>\n",
       "    <tr style=\"text-align: right;\">\n",
       "      <th></th>\n",
       "      <th>Region</th>\n",
       "      <th>Category</th>\n",
       "      <th>Count</th>\n",
       "    </tr>\n",
       "  </thead>\n",
       "  <tbody>\n",
       "    <tr>\n",
       "      <th>0</th>\n",
       "      <td>North</td>\n",
       "      <td>Electronics</td>\n",
       "      <td>150.0</td>\n",
       "    </tr>\n",
       "    <tr>\n",
       "      <th>1</th>\n",
       "      <td>North</td>\n",
       "      <td>Clothing</td>\n",
       "      <td>190.0</td>\n",
       "    </tr>\n",
       "    <tr>\n",
       "      <th>2</th>\n",
       "      <td>North</td>\n",
       "      <td>Furniture</td>\n",
       "      <td>190.0</td>\n",
       "    </tr>\n",
       "  </tbody>\n",
       "</table>\n",
       "</div>"
      ],
      "text/plain": [
       "  Region     Category  Count\n",
       "0  North  Electronics  150.0\n",
       "1  North     Clothing  190.0\n",
       "2  North    Furniture  190.0"
      ]
     },
     "execution_count": 78,
     "metadata": {},
     "output_type": "execute_result"
    }
   ],
   "source": [
    "two"
   ]
  },
  {
   "cell_type": "code",
   "execution_count": null,
   "id": "496bbb15-fab3-4305-a4c6-a5cbc570a44a",
   "metadata": {},
   "outputs": [],
   "source": []
  }
 ],
 "metadata": {
  "kernelspec": {
   "display_name": "Python 3 (ipykernel)",
   "language": "python",
   "name": "python3"
  },
  "language_info": {
   "codemirror_mode": {
    "name": "ipython",
    "version": 3
   },
   "file_extension": ".py",
   "mimetype": "text/x-python",
   "name": "python",
   "nbconvert_exporter": "python",
   "pygments_lexer": "ipython3",
   "version": "3.12.4"
  }
 },
 "nbformat": 4,
 "nbformat_minor": 5
}
